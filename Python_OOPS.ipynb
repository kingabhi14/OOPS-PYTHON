{
  "nbformat": 4,
  "nbformat_minor": 0,
  "metadata": {
    "colab": {
      "provenance": []
    },
    "kernelspec": {
      "name": "python3",
      "display_name": "Python 3"
    },
    "language_info": {
      "name": "python"
    }
  },
  "cells": [
    {
      "cell_type": "markdown",
      "source": [
        "PYTHON OOPS QUESTIONS\n",
        "\n",
        "\n",
        "1.What is Object-Oriented Programming (OOP)?\n",
        "\n",
        "ANS --Object-oriented programming (OOP) is a programming style that organizes software design around objects, rather than logic and functions. Objects are units that contain data and functions, and are the building blocks of computer programs.\n",
        "\n",
        "2.What is a class in OOP?\n",
        "\n",
        "ANS -In object-oriented programming (OOP), a class is a template for creating objects. A class defines the shared properties and behaviors of objects that are created from it.\n",
        "\n"
      ],
      "metadata": {
        "id": "KHFhNtsyOHvF"
      }
    },
    {
      "cell_type": "markdown",
      "source": [
        "3.What is an object in OOP?\n",
        "\n",
        "ANS -In Object-Oriented Programming (OOP), an object is a data entity with unique characteristics and behaviors. Objects are the fundamental units of OOP and are used to represent real-world entities.\n",
        "\n",
        "4.What is the difference between abstraction and encapsulation?\n",
        "\n",
        "ANS -Abstraction is a design-level process that focuses on what an object does, while encapsulation is a way to control access to an object's data. Both are key principles of Object-Oriented Programming (OOP)."
      ],
      "metadata": {
        "id": "phNONbAtPjVO"
      }
    },
    {
      "cell_type": "markdown",
      "source": [
        "5.What are dunder methods in Python?\n",
        "\n",
        "ANS -Dunder methods, also known as magic methods or special methods, are predefined methods in Python that allow you to customize the behavior of your objects. They are recognized by the double underscore format, such as __init__ or __str__.\n",
        "\n",
        "6.Explain the concept of inheritance in OOP?\n",
        "\n",
        "ANS -In object-oriented programming (OOP), inheritance is a mechanism that allows a class to inherit properties and behaviors from another class. It is a fundamental concept in OOP that promotes code reuse and establishes relationships between classes."
      ],
      "metadata": {
        "id": "TzGapWItQY3_"
      }
    },
    {
      "cell_type": "markdown",
      "source": [
        "7.What is polymorphism in OOP?\n",
        "\n",
        "ANS -In Object-Oriented Programming (OOP), polymorphism refers to the ability of an object to take on multiple forms, meaning a single method name can be used with different data types or objects, allowing them to behave differently based on their specific context, essentially providing a single interface for various underlying types; it's a key concept for achieving code reusability and flexibility.\n",
        "\n",
        "8.How is encapsulation achieved in Python?\n",
        "\n",
        "ANS -Encapsulation in Python is achieved by using access modifiers to control access to a class's methods and variables. These access modifiers include public, private, and protected.\n",
        "\n",
        "9.What is a constructor in Python?\n",
        "\n",
        "ANS -A constructor in Python is a special method that initializes an object when a class is instantiated. It's a vital part of object-oriented programming.\n",
        "\n",
        "10.What are class and static methods in Python?\n",
        "\n",
        "ANS -The @classmethod decorator is a built-in function decorator that is an expression that gets evaluated after your function is defined. The result of that evaluation shadows your function definition. A class method receives the class as an implicit first argument, just like an instance method receives the instance .\n",
        "\n",
        "A static method does not receive an implicit first argument. A static method is also a method that is bound to the class and not the object of the class. This method can’t access or modify the class state. It is present in a class because it makes sense for the method to be present in class."
      ],
      "metadata": {
        "id": "mg-zViEQREO1"
      }
    },
    {
      "cell_type": "markdown",
      "source": [
        "11.What is method overloading in Python?\n",
        "\n",
        "ANS -Method overloading in Python is the process of calling a method in different ways, such as with different parameters or argument lists. This allows a single function to work with a variety of input types.\n",
        "\n",
        "\n",
        "12.What is a property decorator in Python?\n",
        "\n",
        "ANS -Property decorator is a built-in decorator in Python which is helpful in defining the properties effortlessly without manually calling the inbuilt function property(). Which is used to return the property attributes of a class from the stated getter, setter and deleter as parameters. Now, lets see some examples to illustrate the use of @property decorator in Python."
      ],
      "metadata": {
        "id": "MJ3fSjlAUKdA"
      }
    },
    {
      "cell_type": "markdown",
      "source": [
        "13.Why is polymorphism important in OOP?\n",
        "\n",
        "ANS -Polymorphism is crucial in object-oriented programming (OOP) because it allows developers to write more flexible, reusable, and maintainable code by enabling a single method name to perform different actions depending on the object type.\n",
        "\n",
        "14.What are the advantages of OOP?\n",
        "\n",
        "ANS -Object-Oriented Programming (OOP) has many advantages, including:\n",
        "Modularity\n",
        "OOP allows developers to break down complex systems into smaller, more manageable objects. This makes it easier to troubleshoot and collaborate on code.\n",
        "\n",
        "Reusability\n",
        "OOP allows developers to reuse code through inheritance, which saves time and reduces development costs.\n",
        "\n",
        "Flexibility\n",
        "OOP allows developers to adapt a single function to the class it's in, and to pass different objects through the same interface.\n",
        "\n",
        "Security\n",
        "OOP uses encapsulation to bundle data and hide complex code, which makes software more secure.\n",
        "\n",
        "Scalability\n",
        "OOP allows developers to scale systems from small to large without major changes.\n",
        "Productivity\n",
        "OOP allows developers to construct new programs quickly using reusable code and libraries.\n",
        "\n",
        "Problem solving\n",
        "OOP's structured approach to breaking down problems helps developers solve them efficiently."
      ],
      "metadata": {
        "id": "qNlhe4yAU_xs"
      }
    },
    {
      "cell_type": "markdown",
      "source": [
        "15.What is multiple inheritance in Python?\n",
        "\n",
        "ANS -Multiple inheritance is a feature in Python that allows a class to inherit attributes and methods from more than one parent class. This allows a class to combine features from multiple classes.\n",
        "\n",
        "16.What is method chaining in Python OOP?\n",
        "\n",
        "ANS -Method chaining is a technique in Python that allows you to call multiple methods on an object in a single line of code. It's a common syntax in object-oriented programming (OOP) languages."
      ],
      "metadata": {
        "id": "AehxZ55cWKsW"
      }
    },
    {
      "cell_type": "markdown",
      "source": [
        "17.Explain the purpose of ‘’__str__’ and ‘__repr__’ ‘ methods in Python.\n",
        "\n",
        "ANS -Purpose\n",
        "\n",
        "__str__\n",
        "Creates a readable representation of an object for end-users. It's used when the print() function is called or when the str() function is used on an object.\n",
        "\n",
        "__repr__\n",
        "Creates a detailed and precise representation of an object for developers. It's used for debugging, logging, and object inspection."
      ],
      "metadata": {
        "id": "9ZIeoXK3WzBT"
      }
    },
    {
      "cell_type": "markdown",
      "source": [
        "18.What is the significance of the __del__ method in Python?\n",
        "\n",
        "ANS -In Python, the __del__ method, also known as a destructor, is a special method that is called automatically when an object is about to be deleted from memory, allowing you to perform any necessary cleanup tasks like releasing external resources held by the object before it is completely removed."
      ],
      "metadata": {
        "id": "xZHt4BNQXUqW"
      }
    },
    {
      "cell_type": "markdown",
      "source": [
        "19.What is the purpose of the __call__ method in Python?\n",
        "\n",
        "ANS -In Python, the __call__ method allows you to create class instances that can be called like a function, essentially turning an object into a callable object, meaning you can use parentheses to execute its functionality directly; this is useful when you want to treat an object as if it were a regular function call."
      ],
      "metadata": {
        "id": "bgNnLoxzXtau"
      }
    },
    {
      "cell_type": "markdown",
      "source": [
        "20.What is the significance of the ‘super()’ function in Python?\n",
        "\n",
        "ANS -In Python, the \"super()\" function is a built-in tool that allows a child class to access methods and properties of its parent class, essentially providing a way to call the parent class's functionality from within the child class, particularly useful when you need to extend or modify inherited methods while still utilizing the parent class's logic."
      ],
      "metadata": {
        "id": "qY_gwkDvYLPH"
      }
    },
    {
      "cell_type": "markdown",
      "source": [
        "21.What is the significance of the __del__ method in Python?\n",
        "\n",
        "ANS -__del__ is a finalizer. It is called when an object is garbage collected which happens at some point after all references to the object have been deleted. In a simple case this could be right after you say del x or, if x is a local variable, after the function ends."
      ],
      "metadata": {
        "id": "tIFz-Im1Y2Y2"
      }
    },
    {
      "cell_type": "markdown",
      "source": [
        "22.What is the difference between a class variable and an instance variable?\n",
        "\n",
        "ANS -Instance Variable: It is basically a class variable without a static modifier and is usually shared by all class instances. Across different objects, these variables can have different values. They are tied to a particular object instance of the class, therefore, the contents of an instance variable are totally independent of one object instance to others.\n",
        "\n",
        "Class Variable: It is basically a static variable that can be declared anywhere at class level with static. Across different objects, these variables can have only one value. These variables are not tied to any particular object of the class, therefore, can share across all objects of the class.  "
      ],
      "metadata": {
        "id": "8_1WXHaeZG9W"
      }
    },
    {
      "cell_type": "markdown",
      "source": [
        "PYTHON OPPS PRACTICAL QUESTIONS\n",
        "\n",
        "1.. Create a parent class Animal with a method speak() that prints a generic message. Create a child class Dog\n",
        "that overrides the speak() method to print \"Bark!\"."
      ],
      "metadata": {
        "id": "c5rQ3rDlZrC9"
      }
    },
    {
      "cell_type": "code",
      "source": [
        "\n",
        "class Animal:\n",
        "    def speak(self):\n",
        "        print(\"Some generic animal sound.\")\n",
        "\n",
        "class Dog(Animal):\n",
        "    def speak(self):\n",
        "        print(\"Bark!\")\n",
        "\n",
        "animal = Animal()\n",
        "animal.speak()\n",
        "dog = Dog()\n",
        "dog.speak()\n"
      ],
      "metadata": {
        "colab": {
          "base_uri": "https://localhost:8080/"
        },
        "id": "ucRZGmG6aYKI",
        "outputId": "c0bcc593-0081-4473-ed8f-ea77454da2db"
      },
      "execution_count": 1,
      "outputs": [
        {
          "output_type": "stream",
          "name": "stdout",
          "text": [
            "Some generic animal sound.\n",
            "Bark!\n"
          ]
        }
      ]
    },
    {
      "cell_type": "markdown",
      "source": [
        "2. Write a program to create an abstract class Shape with a method area(). Derive classes Circle and Rectangle\n",
        "from it and implement the area() method in both.\n",
        "\n",
        "\n"
      ],
      "metadata": {
        "id": "1jOLm0SfbFa0"
      }
    },
    {
      "cell_type": "code",
      "source": [
        "from abc import ABC, abstractmethod\n",
        "import math\n",
        "\n",
        "\n",
        "class Shape(ABC):\n",
        "    @abstractmethod\n",
        "    def area(self):\n",
        "        pass\n",
        "\n",
        "class Circle(Shape):\n",
        "    def __init__(self, radius):\n",
        "        self.radius = radius\n",
        "\n",
        "    def area(self):\n",
        "        return math.pi * (self.radius ** 2)\n",
        "\n",
        "class Rectangle(Shape):\n",
        "    def __init__(self, length, width):\n",
        "        self.length = length\n",
        "        self.width = width\n",
        "\n",
        "    def area(self):\n",
        "        return self.length * self.width\n",
        "\n",
        "circle = Circle(5)\n",
        "print(f\"Area of Circle: {circle.area()}\")\n",
        "\n",
        "rectangle = Rectangle(4, 6)\n",
        "print(f\"Area of Rectangle: {rectangle.area()}\")\n"
      ],
      "metadata": {
        "colab": {
          "base_uri": "https://localhost:8080/"
        },
        "id": "_2NnLBl_bPgU",
        "outputId": "5b27e5c4-dc1a-47df-dd72-3307a48e353a"
      },
      "execution_count": 2,
      "outputs": [
        {
          "output_type": "stream",
          "name": "stdout",
          "text": [
            "Area of Circle: 78.53981633974483\n",
            "Area of Rectangle: 24\n"
          ]
        }
      ]
    },
    {
      "cell_type": "markdown",
      "source": [
        "3. Implement a multi-level inheritance scenario where a class Vehicle has an attribute type. Derive a class Car\n",
        "and further derive a class ElectricCar that adds a battery attribute"
      ],
      "metadata": {
        "id": "XtTYL7hebujY"
      }
    },
    {
      "cell_type": "code",
      "source": [
        "\n",
        "class Vehicle:\n",
        "    def __init__(self, type_of_vehicle):\n",
        "        self.type = type_of_vehicle\n",
        "\n",
        "    def display_type(self):\n",
        "        print(f\"Vehicle type: {self.type}\")\n",
        "\n",
        "class Car(Vehicle):\n",
        "    def __init__(self, type_of_vehicle, model):\n",
        "        super().__init__(type_of_vehicle)\n",
        "        self.model = model\n",
        "\n",
        "    def display_model(self):\n",
        "        print(f\"Car model: {self.model}\")\n",
        "\n",
        "class ElectricCar(Car):\n",
        "    def __init__(self, type_of_vehicle, model, battery_capacity):\n",
        "        super().__init__(type_of_vehicle, model)\n",
        "        self.battery_capacity = battery_capacity\n",
        "\n",
        "    def display_battery(self):\n",
        "        print(f\"Electric Car Battery Capacity: {self.battery_capacity} kWh\")\n",
        "\n",
        "vehicle = Vehicle(\"Motorcycle\")\n",
        "vehicle.display_type()\n",
        "\n",
        "car = Car(\"Car\", \"Sedan\")\n",
        "car.display_type()\n",
        "car.display_model()\n",
        "\n",
        "electric_car = ElectricCar(\"Electric Car\", \"Tesla Model S\", 100)\n",
        "electric_car.display_type()\n",
        "electric_car.display_model()\n",
        "electric_car.display_battery()\n"
      ],
      "metadata": {
        "colab": {
          "base_uri": "https://localhost:8080/"
        },
        "id": "RYrHuXf5cPrn",
        "outputId": "25d7845c-15ac-4868-e548-8a9a6cd43643"
      },
      "execution_count": 3,
      "outputs": [
        {
          "output_type": "stream",
          "name": "stdout",
          "text": [
            "Vehicle type: Motorcycle\n",
            "Vehicle type: Car\n",
            "Car model: Sedan\n",
            "Vehicle type: Electric Car\n",
            "Car model: Tesla Model S\n",
            "Electric Car Battery Capacity: 100 kWh\n"
          ]
        }
      ]
    },
    {
      "cell_type": "markdown",
      "source": [
        "4.Write a program to demonstrate encapsulation by creating a class BankAccount with private attributes\n",
        "balance and methods to deposit, withdraw, and check balance."
      ],
      "metadata": {
        "id": "KOs2txEbc8U_"
      }
    },
    {
      "cell_type": "code",
      "source": [
        "class BankAccount:\n",
        "    def __init__(self, initial_balance=0):\n",
        "        self.__balance = initial_balance\n",
        "\n",
        "    def deposit(self, amount):\n",
        "        if amount > 0:\n",
        "            self.__balance += amount\n",
        "            print(f\"Deposited: ${amount}\")\n",
        "        else:\n",
        "            print(\"Deposit amount must be positive.\")\n",
        "\n",
        "    def withdraw(self, amount):\n",
        "        if amount > 0:\n",
        "            if amount <= self.__balance:\n",
        "                self.__balance -= amount\n",
        "                print(f\"Withdrawn: ${amount}\")\n",
        "            else:\n",
        "                print(\"Insufficient balance.\")\n",
        "        else:\n",
        "            print(\"Withdrawal amount must be positive.\")\n",
        "\n",
        "    def check_balance(self):\n",
        "        print(f\"Current balance: ${self.__balance}\")\n",
        "\n",
        "account = BankAccount(1000)\n",
        "\n",
        "account.check_balance() 0\n",
        "y\n",
        "account.deposit(500)\n",
        "account.check_balance()\n",
        "\n",
        "account.withdraw(200)\n",
        "account.check_balance()\n",
        "account.withdraw(2000)\n"
      ],
      "metadata": {
        "colab": {
          "base_uri": "https://localhost:8080/"
        },
        "id": "k_FanFmadO8_",
        "outputId": "f344f8cb-31a1-41e7-bc99-25265a9e6470"
      },
      "execution_count": 4,
      "outputs": [
        {
          "output_type": "stream",
          "name": "stdout",
          "text": [
            "Current balance: $1000\n",
            "Deposited: $500\n",
            "Current balance: $1500\n",
            "Withdrawn: $200\n",
            "Current balance: $1300\n",
            "Insufficient balance.\n"
          ]
        }
      ]
    },
    {
      "cell_type": "markdown",
      "source": [
        "5.. Implement a class Person with a class method to count the total number of persons created.\n",
        "\n"
      ],
      "metadata": {
        "id": "iO031iKLd5kP"
      }
    },
    {
      "cell_type": "code",
      "source": [
        "class Person:\n",
        "\n",
        "    total_persons = 0\n",
        "\n",
        "    def __init__(self, name, age):\n",
        "        self.name = name\n",
        "        self.age = age\n",
        "\n",
        "        Person.total_persons += 1\n",
        "\n",
        "    @classmethod\n",
        "    def count_persons(cls):\n",
        "        return cls.total_persons\n",
        "\n",
        "person1 = Person(\"Aman\", 30)\n",
        "person2 = Person(\"Mannu\", 25)\n",
        "person3 = Person(\"Abhi\", 35)\n",
        "print(f\"Total persons created: {Person.count_persons()}\")\n"
      ],
      "metadata": {
        "colab": {
          "base_uri": "https://localhost:8080/"
        },
        "id": "nHSK3R7oeLes",
        "outputId": "dbbd0189-8e64-4730-81df-4ad2d77b4dd4"
      },
      "execution_count": 11,
      "outputs": [
        {
          "output_type": "stream",
          "name": "stdout",
          "text": [
            "Total persons created: 3\n"
          ]
        }
      ]
    },
    {
      "cell_type": "markdown",
      "source": [
        "6. Write a class Fraction with attributes numerator and denominator. Override the str method to display the\n",
        "fraction as \"numerator/denominator\"."
      ],
      "metadata": {
        "id": "A4hW5Fu2efkl"
      }
    },
    {
      "cell_type": "code",
      "source": [
        "class Fraction:\n",
        "    def __init__(self, numerator, denominator):\n",
        "        self.numerator = numerator\n",
        "        self.denominator = denominator\n",
        "\n",
        "    def __str__(self):\n",
        "        return f\"{self.numerator}/{self.denominator}\"\n",
        "fraction1 = Fraction(3, 4)\n",
        "fraction2 = Fraction(5, 8)\n",
        "\n",
        "print(fraction1)\n",
        "print(fraction2)\n"
      ],
      "metadata": {
        "colab": {
          "base_uri": "https://localhost:8080/"
        },
        "id": "knqJNtlkemzE",
        "outputId": "349a384f-bd37-4854-d36d-77c041b2f1af"
      },
      "execution_count": 6,
      "outputs": [
        {
          "output_type": "stream",
          "name": "stdout",
          "text": [
            "3/4\n",
            "5/8\n"
          ]
        }
      ]
    },
    {
      "cell_type": "markdown",
      "source": [
        "7. Demonstrate operator overloading by creating a class Vector and overriding the add method to add two\n",
        "vectors."
      ],
      "metadata": {
        "id": "nQMSfpgXe2_Y"
      }
    },
    {
      "cell_type": "code",
      "source": [
        "class Vector:\n",
        "    def __init__(self, x, y):\n",
        "        self.x = x\n",
        "        self.y = y\n",
        "\n",
        "    def __add__(self, other):\n",
        "        if isinstance(other, Vector):\n",
        "            return Vector(self.x + other.x, self.y + other.y)\n",
        "        else:\n",
        "            raise TypeError(\"Operands must be instances of Vector\")\n",
        "\n",
        "    def __str__(self):\n",
        "        return f\"({self.x}, {self.y})\"\n",
        "vector1 = Vector(2, 3)\n",
        "vector2 = Vector(4, 5)\n",
        "\n",
        "\n",
        "result = vector1 + vector2\n",
        "\n",
        "print(f\"Vector1: {vector1}\")\n",
        "print(f\"Vector2: {vector2}\")\n",
        "print(f\"Sum of vectors: {result}\")\n"
      ],
      "metadata": {
        "colab": {
          "base_uri": "https://localhost:8080/"
        },
        "id": "5k9GZsmsfB4F",
        "outputId": "93ffd052-0691-417a-92a2-4309273a4377"
      },
      "execution_count": 7,
      "outputs": [
        {
          "output_type": "stream",
          "name": "stdout",
          "text": [
            "Vector1: (2, 3)\n",
            "Vector2: (4, 5)\n",
            "Sum of vectors: (6, 8)\n"
          ]
        }
      ]
    },
    {
      "cell_type": "markdown",
      "source": [
        "8. Create a class Person with attributes name and age. Add a method greet() that prints \"Hello, my name is\n",
        "{name} and I am {age} years old.\""
      ],
      "metadata": {
        "id": "OjAneg4XfeFF"
      }
    },
    {
      "cell_type": "code",
      "source": [
        "class Person:\n",
        "    def __init__(self, name, age):\n",
        "        self.name = name\n",
        "        self.age = age\n",
        "\n",
        "    def greet(self):\n",
        "        print(f\"Hello, my name is {self.name} and I am {self.age} years old.\")\n",
        "\n",
        "person1 = Person(\"Abhishek\",20)\n",
        "person2 = Person(\"Amit\", 25)\n",
        "\n",
        "person1.greet()\n",
        "person2.greet()\n"
      ],
      "metadata": {
        "colab": {
          "base_uri": "https://localhost:8080/"
        },
        "id": "jkEF6Aj4fmA_",
        "outputId": "2f99cb66-ea0c-417a-ed46-b4bb19ff84a7"
      },
      "execution_count": 8,
      "outputs": [
        {
          "output_type": "stream",
          "name": "stdout",
          "text": [
            "Hello, my name is Abhishek and I am 20 years old.\n",
            "Hello, my name is Amit and I am 25 years old.\n"
          ]
        }
      ]
    },
    {
      "cell_type": "markdown",
      "source": [
        "9. Implement a class Student with attributes name and grades. Create a method average_grade() to compute\n",
        "the average of the grades."
      ],
      "metadata": {
        "id": "qRoTboPDgTJY"
      }
    },
    {
      "cell_type": "code",
      "source": [
        "class Student:\n",
        "    def __init__(self, name, grades):\n",
        "        self.name = name\n",
        "        self.grades = grades\n",
        "\n",
        "    def average_grade(self):\n",
        "        if len(self.grades) > 0:\n",
        "            return sum(self.grades) / len(self.grades)\n",
        "        else:\n",
        "            return 0\n",
        "\n",
        "student1 = Student(\"Abhishek \", [85, 90, 78, 92])\n",
        "student2 = Student(\"Amit\", [88, 76, 95, 80, 85])\n",
        "\n",
        "print(f\"{student1.name}'s average grade: {student1.average_grade()}\")\n",
        "print(f\"{student2.name}'s average grade: {student2.average_grade()}\")\n"
      ],
      "metadata": {
        "colab": {
          "base_uri": "https://localhost:8080/"
        },
        "id": "JACPKAYEghXQ",
        "outputId": "f330e63e-7306-4fba-9b55-599ff007a4dd"
      },
      "execution_count": 9,
      "outputs": [
        {
          "output_type": "stream",
          "name": "stdout",
          "text": [
            "Abhishek 's average grade: 86.25\n",
            "Amit's average grade: 84.8\n"
          ]
        }
      ]
    },
    {
      "cell_type": "markdown",
      "source": [
        "10. Create a class Rectangle with methods set_dimensions() to set the dimensions and area() to calculate the\n",
        "area."
      ],
      "metadata": {
        "id": "q3_vdmXDg-ze"
      }
    },
    {
      "cell_type": "code",
      "source": [
        "class Rectangle:\n",
        "    def __init__(self):\n",
        "        self.length = 4\n",
        "        self.width = 2\n",
        "\n",
        "    def set_dimensions(self, length, width):\n",
        "        self.length = length\n",
        "        self.width = width\n",
        "\n",
        "    def area(self):\n",
        "        return self.length * self.width\n",
        "\n",
        "rectangle = Rectangle()\n",
        "\n",
        "rectangle.set_dimensions(10, 20)\n",
        "\n",
        "print(f\"Area of the rectangle: {rectangle.area()}\")\n"
      ],
      "metadata": {
        "colab": {
          "base_uri": "https://localhost:8080/"
        },
        "id": "74oWSBQrhE1W",
        "outputId": "dd25e013-8fac-4b73-bcf8-1a17b5866d9c"
      },
      "execution_count": 10,
      "outputs": [
        {
          "output_type": "stream",
          "name": "stdout",
          "text": [
            "Area of the rectangle: 200\n"
          ]
        }
      ]
    },
    {
      "cell_type": "markdown",
      "source": [
        "11.Create a class Employee with a method calculate_salary() that computes the salary based on hours worked\n",
        "and hourly rate. Create a derived class Manager that adds a bonus to the salary."
      ],
      "metadata": {
        "id": "HIeHcCcaiWzO"
      }
    },
    {
      "cell_type": "code",
      "source": [
        "class Employee:\n",
        "    def __init__(self, name, hours_worked, hourly_rate):\n",
        "        self.name = name\n",
        "        self.hours_worked = hours_worked\n",
        "        self.hourly_rate = hourly_rate\n",
        "\n",
        "    def calculate_salary(self):\n",
        "        return self.hours_worked * self.hourly_rate\n",
        "\n",
        "class Manager(Employee):\n",
        "    def __init__(self, name, hours_worked, hourly_rate, bonus):\n",
        "        super().__init__(name, hours_worked, hourly_rate)\n",
        "        self.bonus = bonus\n",
        "\n",
        "\n",
        "    def calculate_salary(self):\n",
        "        base_salary = super().calculate_salary()\n",
        "        return base_salary + self.bonus\n",
        "\n",
        "employee = Employee(\"Abhi\", 20, 35)\n",
        "manager = Manager(\"Aman\", 40, 30, 505)\n",
        "\n",
        "print(f\"Abhi: ${employee.calculate_salary()}\")\n",
        "print(f\"Aman: ${manager.calculate_salary()}\")\n"
      ],
      "metadata": {
        "colab": {
          "base_uri": "https://localhost:8080/"
        },
        "id": "TB6WlmXRicps",
        "outputId": "7d55e49d-3ae6-4dd3-ed2f-fc1fb360132d"
      },
      "execution_count": 14,
      "outputs": [
        {
          "output_type": "stream",
          "name": "stdout",
          "text": [
            "Abhi: $700\n",
            "Aman: $1705\n"
          ]
        }
      ]
    },
    {
      "cell_type": "markdown",
      "source": [
        "12.Create a class Product with attributes name, price, and quantity. Implement a method total_price() that\n",
        "calculates the total price of the product.\n",
        "\n",
        "\n"
      ],
      "metadata": {
        "id": "5ixkX1FNj2Yu"
      }
    },
    {
      "cell_type": "code",
      "source": [
        "class Product:\n",
        "    def __init__(self, name, price, quantity):\n",
        "        self.name = name\n",
        "        self.price = price\n",
        "        self.quantity = quantity\n",
        "\n",
        "    def total_price(self):\n",
        "        return self.price * self.quantity\n",
        "\n",
        "product1 = Product(\"Laptop\", 10000, 20)\n",
        "product2 = Product(\"Phone\", 5000, 30)\n",
        "\n",
        "print(f\"Total price of {product1.name}: ${product1.total_price()}\")\n",
        "print(f\"Total price of {product2.name}: ${product2.total_price()}\")\n"
      ],
      "metadata": {
        "colab": {
          "base_uri": "https://localhost:8080/"
        },
        "id": "KCcim5NSj-DP",
        "outputId": "a500a0a0-b280-47a5-eec9-96b13178429d"
      },
      "execution_count": 16,
      "outputs": [
        {
          "output_type": "stream",
          "name": "stdout",
          "text": [
            "Total price of Laptop: $200000\n",
            "Total price of Phone: $150000\n"
          ]
        }
      ]
    },
    {
      "cell_type": "markdown",
      "source": [
        "13. Create a class Animal with an abstract method sound(). Create two derived classes Cow and Sheep that\n",
        "implement the sound() method."
      ],
      "metadata": {
        "id": "YGSTASQEk_Yn"
      }
    },
    {
      "cell_type": "code",
      "source": [
        "from abc import ABC, abstractmethod\n",
        "\n",
        "\n",
        "class Animal(ABC):\n",
        "    @abstractmethod\n",
        "    def sound(self):\n",
        "        pass\n",
        "\n",
        "class Cow(Animal):\n",
        "    def sound(self):\n",
        "        return \"Moo\"\n",
        "\n",
        "class Sheep(Animal):\n",
        "    def sound(self):\n",
        "        return \"Baa\"\n",
        "\n",
        "cow = Cow()\n",
        "sheep = Sheep()\n",
        "\n",
        "print(f\"Cow sound: {cow.sound()}\")\n",
        "print(f\"Sheep sound: {sheep.sound()}\")\n"
      ],
      "metadata": {
        "colab": {
          "base_uri": "https://localhost:8080/"
        },
        "id": "SNTV--nalJVM",
        "outputId": "27daad69-6901-4f88-9fc5-3ffb4f2f6b80"
      },
      "execution_count": 17,
      "outputs": [
        {
          "output_type": "stream",
          "name": "stdout",
          "text": [
            "Cow sound: Moo\n",
            "Sheep sound: Baa\n"
          ]
        }
      ]
    },
    {
      "cell_type": "markdown",
      "source": [
        "14.Create a class Book with attributes title, author, and year_published. Add a method get_book_info() that\n",
        "returns a formatted string with the book's details."
      ],
      "metadata": {
        "id": "lChVVDmUmAwV"
      }
    },
    {
      "cell_type": "code",
      "source": [
        "class Book:\n",
        "    def __init__(self, title, author, year_published):\n",
        "        self.title = title\n",
        "        self.author = author\n",
        "        self.year_published = year_published\n",
        "\n",
        "\n",
        "    def get_book_info(self):\n",
        "        return f\"Title: {self.title}\\nAuthor: {self.author}\\nYear Published: {self.year_published}\"\n",
        "\n",
        "book1 = Book(\"The great man \", \"ABHISHEK\", 2001)\n",
        "book2 = Book(\"The Life\", \"Amit\", 2002)\n",
        "\n",
        "print(book1.get_book_info())\n",
        "print(\"\\n\")\n",
        "print(book2.get_book_info())\n"
      ],
      "metadata": {
        "colab": {
          "base_uri": "https://localhost:8080/"
        },
        "id": "I7FovT_cmKpm",
        "outputId": "15a8ebcc-f644-4b81-ac63-e14ed0d4d0d9"
      },
      "execution_count": 19,
      "outputs": [
        {
          "output_type": "stream",
          "name": "stdout",
          "text": [
            "Title: The great man \n",
            "Author: ABHISHEK\n",
            "Year Published: 2001\n",
            "\n",
            "\n",
            "Title: The Life\n",
            "Author: Amit\n",
            "Year Published: 2002\n"
          ]
        }
      ]
    },
    {
      "cell_type": "markdown",
      "source": [
        "15.Create a class House with attributes address and price. Create a derived class Mansion that adds an\n",
        "attribute number_of_rooms"
      ],
      "metadata": {
        "id": "6uXaeFApn8p0"
      }
    },
    {
      "cell_type": "code",
      "source": [
        "\n",
        "class House:\n",
        "    def __init__(self, address, price):\n",
        "        self.address = address\n",
        "        self.price = price\n",
        "\n",
        "    def get_info(self):\n",
        "        return f\"Address: {self.address}\\nPrice: rupees{self.price}\"\n",
        "\n",
        "class Mansion(House):\n",
        "    def __init__(self, address, price, number_of_rooms):\n",
        "        super().__init__(address, price)\n",
        "        self.number_of_rooms = number_of_rooms\n",
        "\n",
        "    def get_info(self):\n",
        "        base_info = super().get_info()\n",
        "        return f\"{base_info}\\nNumber of Rooms: {self.number_of_rooms}\"\n",
        "\n",
        "house = House(\"South delhi, India\", 250000)\n",
        "mansion = Mansion(\"King Palace, New delhi\", 5000000, 10)\n",
        "print(\"House Info:\\n\", house.get_info())\n",
        "print(\"\\nMansion Info:\\n\", mansion.get_info())\n"
      ],
      "metadata": {
        "colab": {
          "base_uri": "https://localhost:8080/"
        },
        "id": "T4OeWKtwoFlt",
        "outputId": "d3825fe3-0f57-46f8-845e-5808e1f72f1b"
      },
      "execution_count": 20,
      "outputs": [
        {
          "output_type": "stream",
          "name": "stdout",
          "text": [
            "House Info:\n",
            " Address: South delhi, India\n",
            "Price: rupees250000\n",
            "\n",
            "Mansion Info:\n",
            " Address: King Palace, New delhi\n",
            "Price: rupees5000000\n",
            "Number of Rooms: 10\n"
          ]
        }
      ]
    }
  ]
}